{
 "cells": [
  {
   "cell_type": "code",
   "execution_count": 1,
   "metadata": {},
   "outputs": [],
   "source": [
    "import nest_asyncio\n",
    "from app.workflow.travel_itinerary import TravelItineraryWorkflow\n",
    "\n",
    "nest_asyncio.apply()\n",
    "\n",
    "workflow = TravelItineraryWorkflow(\n",
    "    verbose=True\n",
    ")\n"
   ]
  },
  {
   "cell_type": "code",
   "execution_count": 2,
   "metadata": {},
   "outputs": [
    {
     "name": "stdout",
     "output_type": "stream",
     "text": [
      "Step - IntentionDetectionAgent: Intention detection successful: intent_type=<IntentType.UNRELATED: 'unrelated'> confidence=0.95 action_required=None update_target=None\n"
     ]
    },
    {
     "data": {
      "text/plain": [
       "{'status': 'unrelated',\n",
       " 'message': 'I can help you plan a trip or update your existing travel plans. What would you like to do?'}"
      ]
     },
     "execution_count": 2,
     "metadata": {},
     "output_type": "execute_result"
    }
   ],
   "source": [
    "user_input = \"Tell me a joke\"\n",
    "await workflow.run(query=user_input)"
   ]
  },
  {
   "cell_type": "code",
   "execution_count": null,
   "metadata": {},
   "outputs": [
    {
     "name": "stdout",
     "output_type": "stream",
     "text": [
      "Step - IntentionDetectionAgent: Intention detection successful: intent_type=<IntentType.NEW_TRIP: 'new_trip'> confidence=0.95 action_required=None update_target=None\n",
      "Step - ContextExtractionAgent: Context extraction successful: destination='Taipei' duration=3 group_size=1 budget=None preferences=[] additional_info={}\n",
      "Error generating daily plans: 1 validation error for StopEvent\n",
      "result\n",
      "  Field required [type=missing, input_value={}, input_type=dict]\n",
      "    For further information visit https://errors.pydantic.dev/2.10/v/missing\n"
     ]
    }
   ],
   "source": [
    "user_input = \"Plan three-days trip in Taipei\"\n",
    "await workflow.run(query=user_input)"
   ]
  }
 ],
 "metadata": {
  "kernelspec": {
   "display_name": ".venv",
   "language": "python",
   "name": "python3"
  },
  "language_info": {
   "codemirror_mode": {
    "name": "ipython",
    "version": 3
   },
   "file_extension": ".py",
   "mimetype": "text/x-python",
   "name": "python",
   "nbconvert_exporter": "python",
   "pygments_lexer": "ipython3",
   "version": "3.9.13"
  }
 },
 "nbformat": 4,
 "nbformat_minor": 2
}
